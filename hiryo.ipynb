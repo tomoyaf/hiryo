{
 "cells": [
  {
   "cell_type": "code",
   "execution_count": 248,
   "metadata": {},
   "outputs": [],
   "source": [
    "import numpy as np"
   ]
  },
  {
   "cell_type": "code",
   "execution_count": 249,
   "metadata": {},
   "outputs": [
    {
     "data": {
      "text/plain": [
       "(6, 5)"
      ]
     },
     "execution_count": 249,
     "metadata": {},
     "output_type": "execute_result"
    }
   ],
   "source": [
    "a = np.array([\n",
    "    [0.053, 0.020, 0.010, 0.0, 0.0],\n",
    "    [0.030, 0.050, 0.030, 0.050, 0.012],\n",
    "    [0.0, 0.020, 0.200, 0.040, 0.0],\n",
    "    [0.060, 0.070, 0.030, 0.0, 0.0],\n",
    "    [0.020, 0.005, 0.049, 0.02, 0.0],\n",
    "    [0.025, 0.045, 0.0175, 0.0, 0.0]\n",
    "])\n",
    "a.shape"
   ]
  },
  {
   "cell_type": "code",
   "execution_count": 250,
   "metadata": {},
   "outputs": [
    {
     "data": {
      "text/plain": [
       "(5,)"
      ]
     },
     "execution_count": 250,
     "metadata": {},
     "output_type": "execute_result"
    }
   ],
   "source": [
    "y = np.array([18, 17, 18, 0.1, 0.5])\n",
    "# 18, 17, 18, 0.1, 30\n",
    "y.shape\n"
   ]
  },
  {
   "cell_type": "code",
   "execution_count": 251,
   "metadata": {},
   "outputs": [],
   "source": [
    "def unit_vector(v):\n",
    "    return v / np.linalg.norm(v, ord=2)"
   ]
  },
  {
   "cell_type": "code",
   "execution_count": 252,
   "metadata": {},
   "outputs": [
    {
     "data": {
      "text/plain": [
       "array([[0.92135604, 0.34768152, 0.17384076, 0.        , 0.        ],\n",
       "       [0.36001152, 0.6000192 , 0.36001152, 0.6000192 , 0.14400461],\n",
       "       [0.        , 0.09759001, 0.97590007, 0.19518001, 0.        ],\n",
       "       [0.61885275, 0.72199487, 0.30942637, 0.        , 0.        ],\n",
       "       [0.35212577, 0.08803144, 0.86270815, 0.35212577, 0.        ],\n",
       "       [0.45980049, 0.82764088, 0.32186034, 0.        , 0.        ]])"
      ]
     },
     "execution_count": 252,
     "metadata": {},
     "output_type": "execute_result"
    }
   ],
   "source": [
    "\n",
    "a_units = np.array([unit_vector(ai) for ai in a])\n",
    "a_units\n"
   ]
  },
  {
   "cell_type": "code",
   "execution_count": 253,
   "metadata": {},
   "outputs": [
    {
     "data": {
      "text/plain": [
       "array([0.5879528 , 0.55528876, 0.5879528 , 0.0032664 , 0.01633202])"
      ]
     },
     "execution_count": 253,
     "metadata": {},
     "output_type": "execute_result"
    }
   ],
   "source": [
    "y_unit = unit_vector(y)\n",
    "y_unit"
   ]
  },
  {
   "cell_type": "code",
   "execution_count": 254,
   "metadata": {},
   "outputs": [
    {
     "name": "stdout",
     "output_type": "stream",
     "text": [
      "0.8133684736242255\n",
      "0.8133684736242257\n",
      "0.8133684736242259\n",
      "0.8300349074997025\n",
      "0.8300349074997029\n",
      "0.8399376235775594\n"
     ]
    },
    {
     "data": {
      "text/plain": [
       "array([18.        , 19.04907975, 21.75460123,  6.07361963,  0.66257669])"
      ]
     },
     "execution_count": 254,
     "metadata": {},
     "output_type": "execute_result"
    }
   ],
   "source": [
    "\n",
    "p = np.array([0.5, 0.5, 0.5, 0.5, 0.5, 0.5])\n",
    "a_units_t = a_units.T\n",
    "a_units_dot_y_unit = np.dot(y_unit, a_units.T)\n",
    "\n",
    "def check_neighbor(i, p_diff):\n",
    "    tmp_p = p.copy()\n",
    "    tmp_p[i] += p_diff\n",
    "    unit_p = tmp_p / sum(tmp_p)\n",
    "    cos_similarity = np.dot(a_units_dot_y_unit, unit_p)\n",
    "    \n",
    "    return cos_similarity\n",
    "\n",
    "for i, pi in enumerate(p):\n",
    "    prev_cos_similarity = check_neighbor(i, 0.0)\n",
    "    p_diff = 0.5\n",
    "    \n",
    "    for _ in range(100):\n",
    "        if check_neighbor(i, 0.5 * p_diff) > prev_cos_similarity:\n",
    "            p[i] += p_diff\n",
    "        elif check_neighbor(i, -0.5 * p_diff) > prev_cos_similarity:\n",
    "            p[i] -= p_diff\n",
    "            \n",
    "        p_diff *= 0.5\n",
    "        prev_cos_similarity = check_neighbor(i, p_diff)\n",
    "    \n",
    "    print(check_neighbor(0, 0))\n",
    "\n",
    "v = np.dot(a.T, p)\n",
    "ratio = y[0] / v[0]\n",
    "v *= ratio\n",
    "v"
   ]
  },
  {
   "cell_type": "code",
   "execution_count": 255,
   "metadata": {},
   "outputs": [
    {
     "data": {
      "text/plain": [
       "array([18. , 17. , 18. ,  0.1,  0.5])"
      ]
     },
     "execution_count": 255,
     "metadata": {},
     "output_type": "execute_result"
    }
   ],
   "source": [
    "y"
   ]
  },
  {
   "cell_type": "code",
   "execution_count": 256,
   "metadata": {},
   "outputs": [
    {
     "data": {
      "text/plain": [
       "array([110.42944785,  55.21472393,  55.21472393, 110.42944785,\n",
       "        55.21472393, 110.42944785])"
      ]
     },
     "execution_count": 256,
     "metadata": {},
     "output_type": "execute_result"
    }
   ],
   "source": [
    "p * ratio"
   ]
  },
  {
   "cell_type": "code",
   "execution_count": null,
   "metadata": {},
   "outputs": [],
   "source": []
  },
  {
   "cell_type": "code",
   "execution_count": null,
   "metadata": {},
   "outputs": [],
   "source": []
  },
  {
   "cell_type": "code",
   "execution_count": null,
   "metadata": {},
   "outputs": [],
   "source": []
  },
  {
   "cell_type": "code",
   "execution_count": null,
   "metadata": {},
   "outputs": [],
   "source": []
  }
 ],
 "metadata": {
  "kernelspec": {
   "display_name": "Python 3",
   "language": "python",
   "name": "python3"
  },
  "language_info": {
   "codemirror_mode": {
    "name": "ipython",
    "version": 3
   },
   "file_extension": ".py",
   "mimetype": "text/x-python",
   "name": "python",
   "nbconvert_exporter": "python",
   "pygments_lexer": "ipython3",
   "version": "3.6.4"
  }
 },
 "nbformat": 4,
 "nbformat_minor": 2
}
